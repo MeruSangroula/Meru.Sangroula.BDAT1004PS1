{
 "cells": [
  {
   "cell_type": "markdown",
   "id": "36b00c4a",
   "metadata": {},
   "source": [
    "<h2>BDAT 1004 - Data Programming</h2>\n",
    "\n",
    "<h3>Problem Set 1</h3>\n",
    "\n",
    "<h2> C# </h2>\n",
    "\n",
    "<h4>Question 1</h4>"
   ]
  },
  {
   "cell_type": "markdown",
   "id": "a89cae20",
   "metadata": {},
   "source": [
    "What data type is each of the following?\n",
    "\n",
    "1. 5 : integer\n",
    "2. 5.0: double\n",
    "3. 5 > 1: boolean value \"True\"\n",
    "4. '5': string\n",
    "5. 5 * 2: integer\n",
    "6. '5' * 2: string\n",
    "7. '5' + '2': string\n",
    "8. 5 / 2: double\n",
    "9. 5 % 2 : integer\n",
    "10. {5, 2, 1}: array\n",
    "11. 5 == 3 : boolean value \"False\"\n",
    "12. Pi (the number): double"
   ]
  },
  {
   "cell_type": "markdown",
   "id": "524cb431",
   "metadata": {},
   "source": [
    "<h4>Question 2 </h4>"
   ]
  },
  {
   "cell_type": "markdown",
   "id": "b51d1e70",
   "metadata": {},
   "source": [
    "Write (and evaluate) C# expressions that answer these questions:\n",
    "\n",
    "1. How many letters are there in 'Supercalifragilisticexpialidocious'?\n",
    "\n",
    "2. Does 'Supercalifragilisticexpialidocious' contain 'ice' as a substring? \n",
    "\n",
    "3. Which of the following words is the longest: Supercalifragilisticexpialidocious, Honorificabilitudinitatibus, or Bababadalgharaghtakamminarronnkonn?\n",
    "\n",
    "4. Which composer comes first in the dictionary: 'Berlioz', 'Borodin', 'Brian','Bartok', 'Bellini', 'Buxtehude', 'Bernstein'. Which one comes last?"
   ]
  },
  {
   "cell_type": "code",
   "execution_count": 13,
   "id": "3543adc0",
   "metadata": {},
   "outputs": [],
   "source": [
    "// Defining all the letters inside string\n",
    "\n",
    "String word1 = \"Supercalifragilisticexpialidocious\";\n",
    "String word2 = \"Honorificabilitudinitatibus\";\n",
    "String word3 = \"Bababadalgharaghtakamminarronnkonn\";"
   ]
  },
  {
   "cell_type": "code",
   "execution_count": 6,
   "id": "45eb58d6",
   "metadata": {},
   "outputs": [
    {
     "name": "stdout",
     "output_type": "stream",
     "text": [
      "The word 'Supercalifragilisticexpialidocious' has 34 letters\r\n"
     ]
    }
   ],
   "source": [
    "//Answer 1\n",
    "\n",
    "int wordCount = word1.Length; //counting the length of the \"Supercalifragilisticexpialidocious\"\n",
    "Console.WriteLine($\"The word '{word1}' has {wordCount} letters\");"
   ]
  },
  {
   "cell_type": "code",
   "execution_count": 7,
   "id": "46e0d31b",
   "metadata": {},
   "outputs": [
    {
     "name": "stdout",
     "output_type": "stream",
     "text": [
      "The word 'Supercalifragilisticexpialidocious' contains 'ice' as a substring.\r\n"
     ]
    }
   ],
   "source": [
    "// Answer 2\n",
    "bool containSubstring = word1.Contains(\"ice\");\n",
    "\n",
    "if (containSubstring)\n",
    "{\n",
    "    Console.WriteLine($\"The word '{word1}' contains 'ice' as a substring.\");\n",
    "}\n",
    "else\n",
    "{\n",
    "    Console.WriteLine($\"The word '{word1}' does not contain 'ice' as a substring.\");\n",
    "}"
   ]
  },
  {
   "cell_type": "code",
   "execution_count": 15,
   "id": "00bfd319",
   "metadata": {},
   "outputs": [
    {
     "name": "stdout",
     "output_type": "stream",
     "text": [
      "There are 2 words that share the longest length.\r\n"
     ]
    }
   ],
   "source": [
    "// Answer 3\n",
    "\n",
    "string[] words = { word1, word2, word3 };\n",
    "\n",
    "string longestWord = words.OrderByDescending(w => w.Length).FirstOrDefault();\n",
    "\n",
    "if (longestWord != null)\n",
    "{\n",
    "    int count = words.Count(w => w.Length == longestWord.Length);\n",
    "    if (count == 1)\n",
    "    {\n",
    "        Console.WriteLine($\"The longest word among the given words is '{longestWord}'.\");\n",
    "    }\n",
    "    else\n",
    "    {\n",
    "        Console.WriteLine($\"There are {count} words that share the longest length.\");\n",
    "    }\n",
    "}\n",
    "else\n",
    "{\n",
    "    Console.WriteLine(\"No words provided.\");\n",
    "}\n"
   ]
  },
  {
   "cell_type": "code",
   "execution_count": 16,
   "id": "4768599c",
   "metadata": {},
   "outputs": [
    {
     "name": "stdout",
     "output_type": "stream",
     "text": [
      "First composer: Bartok\n",
      "Last composer: Buxtehude\n"
     ]
    }
   ],
   "source": [
    "// Answer 4\n",
    "\n",
    "string[] composers = { \"Berlioz\", \"Borodin\", \"Brian\", \"Bartok\", \"Bellini\", \"Buxtehude\", \"Bernstein\" };\n",
    "Array.Sort(composers);\n",
    "string firstComposer = composers[0];\n",
    "string lastComposer = composers[composers.Length - 1];\n",
    "\n",
    "Console.WriteLine($\"First composer: {firstComposer}\");\n",
    "Console.WriteLine($\"Last composer: {lastComposer}\");"
   ]
  },
  {
   "cell_type": "markdown",
   "id": "e4c2f340",
   "metadata": {},
   "source": [
    "<h4> Question 3 </h4>\n",
    "\n",
    "Implement function triangleArea(a,b,c) that takes as input the lengths of the 3 sides of a triangle and returns the area of the triangle. By Heron's formula, the area of a triangle with side lengths a, b, and c is\n",
    "\n",
    "sqrt(s(s - a)(s -b)(s -c)), where\n",
    "\n",
    "s = (a+b+c)/2.\n",
    "\n",
    "triangleArea(2,2,2)\n",
    "\n",
    "\n",
    "1.7320508075688772"
   ]
  },
  {
   "cell_type": "code",
   "execution_count": 17,
   "id": "a3e81819",
   "metadata": {},
   "outputs": [
    {
     "name": "stdout",
     "output_type": "stream",
     "text": [
      "The area of the triangle is: 1.7320508075688772\r\n"
     ]
    }
   ],
   "source": [
    "double a = 2;\n",
    "double b = 2;\n",
    "double c = 2;\n",
    "\n",
    "// Calculate the semi-perimeter\n",
    "double s = (a + b + c) / 2;\n",
    "\n",
    "// Calculate the area using Heron's formula\n",
    "double area = Math.Sqrt(s * (s - a) * (s - b) * (s - c));\n",
    "\n",
    "Console.WriteLine($\"The area of the triangle is: {area}\");"
   ]
  },
  {
   "cell_type": "markdown",
   "id": "a11c836a",
   "metadata": {},
   "source": [
    "<h4> Question 4 </h4>\n",
    "\n",
    "Write a program in C# Sharp to separate odd and even integers in separate arrays.\n",
    "\n",
    "Go to the editor\n",
    "\n",
    "Test Data :\n",
    "\n",
    "Input the number of elements to be stored in the array :5\n",
    "\n",
    "Input 5 elements in the array :\n",
    "\n",
    "element - 0 : 25\n",
    "\n",
    "element - 1 : 47\n",
    "\n",
    "element - 2 : 42\n",
    "\n",
    "element - 3 : 56\n",
    "\n",
    "element - 4 : 32\n",
    "\n",
    "Expected Output:\n",
    "\n",
    "The Even elements are: 42 56 32\n",
    "\n",
    "The Odd elements are : 25 47\n",
    "\n"
   ]
  },
  {
   "cell_type": "code",
   "execution_count": 19,
   "id": "ef98eab3",
   "metadata": {},
   "outputs": [
    {
     "name": "stdout",
     "output_type": "stream",
     "text": [
      "The Even elements are : 42 56 32 \n",
      "The Odd elements are : 25 47 \n"
     ]
    }
   ],
   "source": [
    "int[] elements = {25,47,42,56,32};\n",
    "int[] evenArray = new int[elements.Length];\n",
    "int[] oddArray = new int[elements.Length];\n",
    "int totalEvenCount = 0;\n",
    "int totalOddCount = 0;\n",
    "\n",
    "for (int i = 0; i < elements.Length; i++)\n",
    "{\n",
    "   \n",
    "    if (elements[i] % 2 == 0)\n",
    "    {\n",
    "        evenArray[totalEvenCount] = elements[i];\n",
    "        totalEvenCount++;\n",
    "    }\n",
    "    else\n",
    "    {\n",
    "        oddArray[totalOddCount] = elements[i];\n",
    "        totalOddCount++;\n",
    "    }\n",
    "}\n",
    "\n",
    "Console.Write(\"The Even elements are : \");\n",
    "for (int i = 0; i < totalEvenCount; i++)\n",
    "{\n",
    "    Console.Write($\"{evenArray[i]} \");\n",
    "}\n",
    "\n",
    "Console.WriteLine();\n",
    "\n",
    "Console.Write(\"The Odd elements are : \");\n",
    "for (int i = 0; i < totalOddCount; i++)\n",
    "{\n",
    "    Console.Write($\"{oddArray[i]} \");\n",
    "}\n",
    "\n",
    "Console.WriteLine();"
   ]
  },
  {
   "cell_type": "markdown",
   "id": "0ef04666",
   "metadata": {},
   "source": [
    "<h4> Question 5 </h4>\n",
    "\n",
    "a. Write a function inside(x,y,x1,y1,x2,y2) that returns True or False depending on whether the point (x,y) lies in the rectangle with lower left corner (x1,y1) and upper right corner (x2,y2).\n",
    "\n",
    "    inside(1,1,0,0,2,3)\n",
    "\n",
    "    True\n",
    "\n",
    "    inside(-1,-1,0,0,2,3)\n",
    "\n",
    "    False\n",
    "\n",
    "b. Use function inside() from part a. to write an expression that tests whether the point (1,1) lies in both of the following rectangles: one with lower left corner (0.3, 0.5) and upper right corner (1.1, 0.7) and the other with lower left corner (0.5, 0.2) and upper right corner (1.1, 2)\n"
   ]
  },
  {
   "cell_type": "code",
   "execution_count": 1,
   "id": "c0d1e055",
   "metadata": {},
   "outputs": [
    {
     "name": "stdout",
     "output_type": "stream",
     "text": [
      "True\n",
      "False\n"
     ]
    }
   ],
   "source": [
    "//a\n",
    "\n",
    "static bool Inside(double x, double y, double x1, double y1, double x2, double y2)\n",
    "{\n",
    "    return x >= x1 && x <= x2 && y >= y1 && y <= y2;\n",
    "}\n",
    "\n",
    "Console.WriteLine(Inside(1, 1, 0, 0, 2, 3));\n",
    "Console.WriteLine(Inside(-1, -1, 0, 0, 2, 3));"
   ]
  },
  {
   "cell_type": "code",
   "execution_count": 4,
   "id": "ff73ad4d",
   "metadata": {},
   "outputs": [
    {
     "name": "stdout",
     "output_type": "stream",
     "text": [
      "Point (1,1) in Rectangle A: False\n",
      "Point (1,1) in Rectangle B: True\n"
     ]
    }
   ],
   "source": [
    "//b\n",
    "\n",
    "bool rectangleA = Inside(1, 1, 0.3, 0.5, 1.1, 0.7);\n",
    "bool rectangleB = Inside(1, 1, 0.5, 0.2, 1.1, 2);\n",
    "\n",
    "Console.WriteLine($\"Point (1,1) in Rectangle A: {rectangleA}\");\n",
    "Console.WriteLine($\"Point (1,1) in Rectangle B: {rectangleB}\");"
   ]
  },
  {
   "cell_type": "markdown",
   "id": "2e4443c0",
   "metadata": {},
   "source": [
    "<h2> Python </h2>"
   ]
  },
  {
   "cell_type": "markdown",
   "id": "8db93a38",
   "metadata": {},
   "source": [
    "<h4> Question 6 </h4>\n",
    "\n",
    "16. You can turn a word into pig-Latin using the following two rules (simplified):\n",
    "    \n",
    "    1. If the word starts with a consonant, move that letter to the end and append 'ay'. For example, 'happy' becomes 'appyhay' and 'pencil' becomes 'encilpay'.\n",
    "\n",
    "    2. If the word starts with a vowel, simply append 'way' to the end of the word.For example, 'enter' becomes 'enterway' and 'other' becomes 'otherway'.For our purposes, there are 5 vowels: a, e, i, o, u (so we count y as a consonant).\n",
    "\n",
    "Write a function pig() that takes a word (i.e., a string) as input and returns its pigLatin form. Your function should still work if the input word contains upper case characters. Your output should always be lower case however.\n",
    "    \n",
    "    >>> pig('happy')\n",
    "    'appyhay'\n",
    "    >>> pig('Enter')\n",
    "    'enterway"
   ]
  },
  {
   "cell_type": "code",
   "execution_count": 2,
   "id": "420a99ff",
   "metadata": {},
   "outputs": [
    {
     "name": "stdout",
     "output_type": "stream",
     "text": [
      "Enter a word: Happy\n",
      "Pig Latin: appyhay\n"
     ]
    }
   ],
   "source": [
    "def pig_latin_translation(word):\n",
    "    vowels = ['a', 'e', 'i', 'o', 'u']\n",
    "\n",
    "    # Check if the word starts with a vowel\n",
    "    if word[0].lower() in vowels:\n",
    "        pig_latin = word.lower() + 'way'\n",
    "    else:\n",
    "        # Move the first consonant(s) to the end and add 'ay'\n",
    "        first_vowel_index = 0\n",
    "        for index, char in enumerate(word):\n",
    "            if char.lower() in vowels:\n",
    "                first_vowel_index = index\n",
    "                break\n",
    "        pig_latin = word[first_vowel_index:].lower() + word[:first_vowel_index].lower() + 'ay'\n",
    "\n",
    "    return pig_latin\n",
    "\n",
    "def main():\n",
    "    word = input(\"Enter a word: \")\n",
    "    pig_latin = pig_latin_translation(word)\n",
    "    print(f\"Pig Latin: {pig_latin}\")\n",
    "\n",
    "if __name__ == \"__main__\":\n",
    "    main()\n"
   ]
  },
  {
   "cell_type": "markdown",
   "id": "37122241",
   "metadata": {},
   "source": [
    "<h4> Question 7 </h4>\n",
    "\n",
    "File bloodtype1.txt records blood-types of patients (A, B, AB, O or OO) at a clinic.\n",
    "\n",
    "Write a function bldcount() that reads the file with name name and reports (i.e., prints) how many patients there are in each bloodtype.\n",
    "\n",
    "bldcount('bloodtype.txt')\n",
    "\n",
    "<p>There are 10 patients of blood type A.</p>\n",
    "<p>There is one patient of blood type B.</p>\n",
    "<p>There are 10 patients of blood type AB.</p>\n",
    "<p>There are 12 patients of blood type O.</p>\n",
    "<p>There are no patients of blood type OO.</p>"
   ]
  },
  {
   "cell_type": "code",
   "execution_count": 9,
   "id": "bb58de12",
   "metadata": {},
   "outputs": [
    {
     "name": "stdout",
     "output_type": "stream",
     "text": [
      "There are 15 patients of blood type A.\n",
      "There are 1 patients of blood type B.\n",
      "There are 13 patients of blood type AB.\n",
      "There are 15 patients of blood type O.\n",
      "There are 0 patients of blood type OO.\n"
     ]
    }
   ],
   "source": [
    "def count_blood_types(file_path):\n",
    "    blood_group = {\"A\": 0, \"B\": 0, \"AB\": 0, \"O\": 0, \"OO\": 0}\n",
    "\n",
    "    try:\n",
    "        with open(file_path, 'r') as text_file:\n",
    "            lines = text_file.readlines()\n",
    "        \n",
    "        for line in lines:\n",
    "            blood_types = line.strip().upper().split()\n",
    "            for blood_type in blood_types:\n",
    "                if blood_type in blood_group:\n",
    "                    blood_group[blood_type] += 1\n",
    "\n",
    "        for blood_type, count in blood_group.items():\n",
    "            print(f\"There are {count} patients of blood type {blood_type}.\")\n",
    "    except FileNotFoundError:\n",
    "        print(f\"File not found: {file_path}\")\n",
    "    except Exception as e:\n",
    "        print(f\"An error occurred: {str(e)}\")\n",
    "\n",
    "count_blood_types(r\"C:\\Users\\Meru\\Downloads\\bloodtype1.txt\")\n"
   ]
  },
  {
   "cell_type": "markdown",
   "id": "39876802",
   "metadata": {},
   "source": [
    "<h4> Question 8 </h4>\n",
    "\n",
    "Write a function curconv() that takes as input:\n",
    "\n",
    "1. a currency represented using a string (e.g., 'JPY' for the Japanese Yen or\n",
    "'EUR' for the Euro)\n",
    "2. an amount and then converts and returns the amount in US dollars.\n",
    "\n",
    "- curconv('EUR', 100)\n",
    "122.96544\n",
    "\n",
    "-  curconv('JPY', 100)\n",
    "1.241401\n",
    "\n",
    "The currency rates you will need are stored in file currencies.txt:\n",
    "AUD 1.0345157 Australian Dollar\n",
    "CHF 1.0237414 Swiss Franc\n",
    "CNY 0.1550176 Chinese Yuan\n",
    "DKK 0.1651442 Danish Krone\n",
    "EUR 1.2296544 Euro\n",
    "GBP 1.5550989 British Pound\n",
    "HKD 0.1270207 Hong Kong Dollar\n",
    "INR 0.0177643 Indian Rupee\n",
    "JPY 0.01241401 Japanese Yen\n",
    "MXN 0.0751848 Mexican Peso\n",
    "MYR 0.3145411 Malaysian Ringgit\n",
    "NOK 0.1677063 Norwegian Krone\n",
    "NZD 0.8003591 New Zealand Dollar\n",
    "PHP 0.0233234 Philippine Peso\n",
    "SEK 0.148269 Swedish Krona\n",
    "SGD 0.788871 Singapore Dollar\n",
    "THB 0.0313789 Thai Baht"
   ]
  },
  {
   "cell_type": "code",
   "execution_count": 10,
   "id": "9c7344be",
   "metadata": {},
   "outputs": [
    {
     "name": "stdout",
     "output_type": "stream",
     "text": [
      "Enter the first 3 letters of currency code: EUR\n",
      "Enter the amount: 100\n",
      "The converted amount is 122.96544 USD\n"
     ]
    }
   ],
   "source": [
    "# Function to load conversion rates from a file\n",
    "def load_conversion_rates(file_path):\n",
    "    try:\n",
    "        with open(file_path, 'r') as text_file:\n",
    "            lines = text_file.readlines()\n",
    "\n",
    "        conversion_rates = {}\n",
    "\n",
    "        # Parse lines to create a dictionary of currency codes and rates\n",
    "        for line in lines:\n",
    "            parts = line.split()\n",
    "            currency_code = parts[0]\n",
    "            rate = float(parts[1])\n",
    "            conversion_rates[currency_code] = rate\n",
    "\n",
    "        return conversion_rates\n",
    "    except FileNotFoundError:\n",
    "        print(f\"File not found: {file_path}\")\n",
    "        return {}\n",
    "    except Exception as e:\n",
    "        print(f\"An error occurred: {str(e)}\")\n",
    "        return {}\n",
    "\n",
    "# Function to perform currency conversion\n",
    "def convert_currency(conversion_rates, currency, amount):\n",
    "    if currency in conversion_rates:\n",
    "        usd_amount = amount * conversion_rates[currency]\n",
    "        return usd_amount\n",
    "    else:\n",
    "        return \"Currency not found\"\n",
    "\n",
    "# Main program\n",
    "file_path = r\"C:\\Users\\Meru\\Downloads\\currencies.txt\"\n",
    "conversion_rates = load_conversion_rates(file_path)\n",
    "\n",
    "if conversion_rates:\n",
    "    currency = input(\"Enter the first 3 letters of currency code: \")\n",
    "    amount = float(input(\"Enter the amount: \"))\n",
    "    \n",
    "    converted_amount = convert_currency(conversion_rates, currency, amount)\n",
    "    \n",
    "    if isinstance(converted_amount, str):\n",
    "        print(converted_amount)\n",
    "    else:\n",
    "        print(f\"The converted amount is {converted_amount} USD\")\n"
   ]
  },
  {
   "cell_type": "markdown",
   "id": "a0303c4b",
   "metadata": {},
   "source": [
    "<h4> Question 9 </h4>\n",
    "\n",
    "Each of the following will cause an exception (an error). Identify what type of exception each will cause.\n",
    "\n",
    "1. Trying to add incompatible variables, as in adding 6 + ‘a’\n",
    "\n",
    "2. Referring to the 12th item of a list that has only 10 items\n",
    "\n",
    "3. Using a value that is out of range for a function’s input, such as calling math.sqrt(-1.0) \n",
    "\n",
    "4. Using an undeclared variable, such as print(x) when x has not been defined\n",
    "\n",
    "5. Trying to open a file that does not exist, such as mistyping the file name or looking in the wrong directory"
   ]
  },
  {
   "cell_type": "markdown",
   "id": "61ea81a1",
   "metadata": {},
   "source": [
    "Answers:\n",
    "\n",
    "1. TypeError\n",
    "\n",
    "2. IndexError\n",
    "\n",
    "3. ValueError\n",
    "\n",
    "4. NameError\n",
    "\n",
    "5. FileNotFoundError"
   ]
  },
  {
   "cell_type": "markdown",
   "id": "834c7bc6",
   "metadata": {},
   "source": [
    "<h4> Question 10 </h4>\n",
    "\n",
    "Encryption is the process of hiding the meaning of a text by substituting letters in the message with other letters, according to some system. If the process is successful, no one but the intended recipient can understand the encrypted message. Cryptanalysis refers to attempts to undo the encryption, even if some details of the encryption are unknown (for example, if an encrypted message has been intercepted). The first step of cryptanalysis is often to build up a table of letter frequencies in the encrypted text. Assume that the string letters is already defined as 'abcdefghijklmnopqrstuvwxyz'. Write a function called frequencies() that takes a string as its only parameter, and returns a list of integers, showing the number of times each character appears in the text. Your function may ignore any characters that are not in letters.\n",
    "\n",
    "-- frequencies('The quick red fox got bored and went home.')\n",
    "\n",
    "[1, 1, 1, 3, 5, 1, 1, 2, 1, 0, 1, 0, 1, 2, 4, 0, 1, 2, 0, 2, 1, 0, 1, 1, 0, 0]\n",
    "\n",
    "-- frequencies('apple')"
   ]
  },
  {
   "cell_type": "code",
   "execution_count": 1,
   "id": "26d7e5bc",
   "metadata": {},
   "outputs": [
    {
     "name": "stdout",
     "output_type": "stream",
     "text": [
      "The quick red fox got bored and went home: [1, 1, 1, 3, 5, 1, 1, 2, 1, 0, 1, 0, 1, 2, 4, 0, 1, 2, 0, 3, 1, 0, 1, 1, 0, 0] \n",
      "\n",
      "apple: [1, 0, 0, 0, 1, 0, 0, 0, 0, 0, 0, 1, 0, 0, 0, 2, 0, 0, 0, 0, 0, 0, 0, 0, 0, 0]\n"
     ]
    }
   ],
   "source": [
    "def frequencies(text):\n",
    "    \n",
    "    alphabets = 'abcdefghijklmnopqrstuvwxyz'\n",
    "    \n",
    "    letters = [0] * len(alphabets)\n",
    "    \n",
    "    text = text.lower()\n",
    "    index = 0\n",
    "    \n",
    "    while index < len(text):\n",
    "        char = text[index]\n",
    "        \n",
    "        if char in alphabets:\n",
    "            letter_index = alphabets.index(char)\n",
    "            letters[letter_index] += 1\n",
    "            \n",
    "        index += 1\n",
    "    \n",
    "    return letters\n",
    "\n",
    "result1 = frequencies('The quick red fox got bored and went home.')\n",
    "print(f\"The quick red fox got bored and went home: {result1} \\n\")\n",
    "\n",
    "result2 = frequencies('apple')\n",
    "print(f\"apple: {result2}\")    "
   ]
  }
 ],
 "metadata": {
  "kernelspec": {
   "display_name": "Python 3 (ipykernel)",
   "language": "python",
   "name": "python3"
  },
  "language_info": {
   "codemirror_mode": {
    "name": "ipython",
    "version": 3
   },
   "file_extension": ".py",
   "mimetype": "text/x-python",
   "name": "python",
   "nbconvert_exporter": "python",
   "pygments_lexer": "ipython3",
   "version": "3.9.13"
  }
 },
 "nbformat": 4,
 "nbformat_minor": 5
}
